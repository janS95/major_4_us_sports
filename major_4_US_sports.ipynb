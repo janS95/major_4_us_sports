{
 "cells": [
  {
   "cell_type": "code",
   "execution_count": 1,
   "metadata": {},
   "outputs": [],
   "source": [
    "import pandas as pd\n",
    "import numpy as np\n",
    "import scipy.stats as stats\n",
    "import re\n",
    "import matplotlib.pyplot as plt"
   ]
  },
  {
   "cell_type": "code",
   "execution_count": 2,
   "metadata": {},
   "outputs": [],
   "source": [
    "import mapping"
   ]
  },
  {
   "cell_type": "markdown",
   "metadata": {},
   "source": [
    "## Getting data from NHL, NBA, MLB, NFL and the corresponding populations from the teams region"
   ]
  },
  {
   "cell_type": "code",
   "execution_count": 3,
   "metadata": {},
   "outputs": [],
   "source": [
    "nhl_df=pd.read_csv(\"datasets/nhl.csv\")\n",
    "nba_df=pd.read_csv(\"datasets/nba.csv\")\n",
    "mlb_df=pd.read_csv(\"datasets/mlb.csv\")\n",
    "nfl_df=pd.read_csv(\"datasets/nfl.csv\")"
   ]
  },
  {
   "cell_type": "code",
   "execution_count": 4,
   "metadata": {},
   "outputs": [],
   "source": [
    "cities=pd.read_html(\"datasets/wikipedia_data.html\")[1]\n",
    "cities=cities.iloc[:-1,[0,3,5,6,7,8]]"
   ]
  },
  {
   "cell_type": "markdown",
   "metadata": {},
   "source": [
    "# Data Cleaning (Whitespaces, '*', ...) and Mapping the sports team to the region"
   ]
  },
  {
   "cell_type": "code",
   "execution_count": 5,
   "metadata": {},
   "outputs": [],
   "source": [
    "#Cleaning the cities dataset\n",
    "cities = cities.rename(columns={cities.columns[1]:'Population'})\n",
    "cities = cities[['Metropolitan area','Population']].set_index('Metropolitan area')\n",
    "cities.index = cities.index.str.strip()\n",
    "cities['Population'] = cities['Population'].astype('float64')"
   ]
  },
  {
   "cell_type": "code",
   "execution_count": 6,
   "metadata": {},
   "outputs": [],
   "source": [
    "#Looking at a specific year for the sports datasets\n",
    "nhl_df = nhl_df[nhl_df['year']==2018]\n",
    "nba_df = nba_df[nba_df['year']==2018]\n",
    "mlb_df = mlb_df[mlb_df['year']==2018]\n",
    "nfl_df = nfl_df[nfl_df['year']==2018]"
   ]
  },
  {
   "cell_type": "code",
   "execution_count": 7,
   "metadata": {},
   "outputs": [],
   "source": [
    "#Cleaning NHL Dataset\n",
    "nhl_df['team'] = nhl_df['team'].str.replace('*','')\n",
    "nhl_df = nhl_df[['team','W','L']].set_index('team')\n",
    "nhl_df = nhl_df.drop(['Atlantic Division','Metropolitan Division',\n",
    "                      'Central Division','Pacific Division'])"
   ]
  },
  {
   "cell_type": "code",
   "execution_count": 8,
   "metadata": {},
   "outputs": [],
   "source": [
    "#Cleaning NBA Dataset\n",
    "nba_df['team'] = nba_df['team'].str.replace('*','')\n",
    "nba_df['team'] = nba_df['team'].str.replace('\\([\\d]*\\)','',regex=True)\n",
    "nba_df['team'] = nba_df['team'].str.strip()\n",
    "nba_df = nba_df[['team','W','L']].set_index('team')"
   ]
  },
  {
   "cell_type": "code",
   "execution_count": 9,
   "metadata": {},
   "outputs": [],
   "source": [
    "#Cleaning MLB Dataset\n",
    "mlb_df['team'] = mlb_df['team'].str.strip()\n",
    "mlb_df = mlb_df[['team','W','L']].set_index('team')"
   ]
  },
  {
   "cell_type": "code",
   "execution_count": 10,
   "metadata": {},
   "outputs": [],
   "source": [
    "#Cleaning NFL Dataset\n",
    "nfl_df['team'] = nfl_df['team'].str.replace('*','')\n",
    "nfl_df['team'] = nfl_df['team'].str.replace('+','')\n",
    "nfl_df['team'] = nfl_df['team'].str.strip()\n",
    "nfl_df = nfl_df[['team','W','L']].set_index('team')\n",
    "nfl_df = nfl_df.drop(['AFC East','AFC North','AFC South','AFC West',\n",
    "                     'NFC East','NFC North','NFC South','NFC West'])"
   ]
  },
  {
   "cell_type": "markdown",
   "metadata": {},
   "source": [
    "## Calculating WIN/LOSS-Ratios (W/L = W / (W + L)) and Group by mapping to region\n",
    "### If there is more than one team in a region &rightarrow; mean(W/L) "
   ]
  },
  {
   "cell_type": "code",
   "execution_count": 11,
   "metadata": {},
   "outputs": [],
   "source": [
    "#NHL data\n",
    "nhl_df[['W','L']] = nhl_df[['W','L']].astype('float64')\n",
    "nhl_df['W/L'] = nhl_df['W']/(nhl_df['L']+nhl_df['W'])\n",
    "nhl_df = nhl_df['W/L'].groupby(mapping.nhl).mean()\n",
    "nhl_df.index.names = ['Metropolitan area']\n",
    "nhl_df.index = nhl_df.index.str.strip()"
   ]
  },
  {
   "cell_type": "code",
   "execution_count": 12,
   "metadata": {},
   "outputs": [],
   "source": [
    "#NBA data\n",
    "nba_df[['W','L']] = nba_df[['W','L']].astype('float64')\n",
    "nba_df['W/L'] = nba_df['W']/(nba_df['W']+nba_df['L'])\n",
    "nba_df = nba_df['W/L'].groupby(mapping.nba).mean()\n",
    "nba_df.index.names = ['Metropolitan area']"
   ]
  },
  {
   "cell_type": "code",
   "execution_count": 13,
   "metadata": {},
   "outputs": [],
   "source": [
    "#MLB data\n",
    "mlb_df[['W','L']] = mlb_df[['W','L']].astype('float64')\n",
    "mlb_df['W/L'] = mlb_df['W']/(mlb_df['W']+mlb_df['L'])\n",
    "mlb_df = mlb_df['W/L'].groupby(mapping.mlb).mean()\n",
    "mlb_df.index.names = ['Metropolitan area']"
   ]
  },
  {
   "cell_type": "code",
   "execution_count": 14,
   "metadata": {},
   "outputs": [],
   "source": [
    "#NFL data\n",
    "nfl_df[['W','L']] = nfl_df[['W','L']].astype('float64')\n",
    "nfl_df['W/L'] = nfl_df['W']/(nfl_df['W']+nfl_df['L'])\n",
    "nfl_df = nfl_df['W/L'].groupby(mapping.nfl).mean()\n",
    "nfl_df.index.names = ['Metropolitan area']"
   ]
  },
  {
   "cell_type": "markdown",
   "metadata": {},
   "source": [
    "## Merge sports and population data together and calculate the correlation of W/L-Ratio to population and plot into scatter plot and geo plot"
   ]
  },
  {
   "cell_type": "code",
   "execution_count": 15,
   "metadata": {},
   "outputs": [
    {
     "data": {
      "image/png": "[encoded data removed]",
      "text/plain": [
       "<Figure size 432x288 with 1 Axes>"
      ]
     },
     "metadata": {
      "needs_background": "light"
     },
     "output_type": "display_data"
    }
   ],
   "source": [
    "#NHL data\n",
    "new_df = pd.merge(nhl_df,cities,how='inner',on='Metropolitan area')\n",
    "    \n",
    "population_by_region = new_df['Population']\n",
    "win_loss_by_region = new_df['W/L']\n",
    "\n",
    "corrcoef = stats.pearsonr(population_by_region, win_loss_by_region)[0]\n",
    "\n",
    "plt.figure()\n",
    "plt.scatter(population_by_region,win_loss_by_region)\n",
    "plt.show()"
   ]
  },
  {
   "cell_type": "code",
   "execution_count": 16,
   "metadata": {},
   "outputs": [],
   "source": [
    "lat_lon = pd.Series(mapping.lat_lon)\n",
    "lat_lon.name = 'lat_lon'\n",
    "new_df = pd.merge(new_df,lat_lon,how='inner',left_index=True,right_index=True)"
   ]
  },
  {
   "cell_type": "code",
   "execution_count": 17,
   "metadata": {},
   "outputs": [],
   "source": [
    "new_df\n",
    "new_df['lat'] = new_df['lat_lon'].map(lambda x: x[0])\n",
    "new_df['lon'] = new_df['lat_lon'].map(lambda x: x[1])"
   ]
  },
  {
   "cell_type": "code",
   "execution_count": null,
   "metadata": {},
   "outputs": [],
   "source": []
  },
  {
   "cell_type": "code",
   "execution_count": 33,
   "metadata": {},
   "outputs": [
    {
     "data": {
      "text/plain": [
       "'temp-plot.html'"
      ]
     },
     "execution_count": 33,
     "metadata": {},
     "output_type": "execute_result"
    }
   ],
   "source": [
    "import plotly.express as px\n",
    "import plotly.offline as pyo\n",
    "import plotly.graph_objects as go\n",
    "from plotly.offline import plot\n",
    "import plotly.io as pio\n",
    "\n",
    "df = px.data.gapminder().query(\"year == 2007\")\n",
    "fig = px.scatter_geo(df, locations=\"iso_alpha\",\n",
    "                     color=\"continent\", # which column to use to set the color of markers\n",
    "                     hover_name=\"country\", # column added to hover information\n",
    "                     size=\"pop\", # size of markers\n",
    "                     projection=\"natural earth\")\n",
    "\n",
    "plot(fig)\n",
    "\n",
    "fig = go.Figure(data=go.Scattergeo(\n",
    "        lon = new_df['lon'].astype('float64'),\n",
    "        lat = new_df['lat'].astype('float64'),\n",
    "        mode = 'markers',\n",
    "        marker_color = new_df['Population'],\n",
    "        ))\n",
    "\n",
    "fig.update_layout(\n",
    "        title = 'Most trafficked US airports<br>(Hover for airport names)',\n",
    "        geo_scope='usa',\n",
    "    )\n",
    "plot(fig)"
   ]
  },
  {
   "cell_type": "code",
   "execution_count": 55,
   "metadata": {},
   "outputs": [
    {
     "data": {
      "text/plain": [
       "-0.17657160252844617"
      ]
     },
     "execution_count": 55,
     "metadata": {},
     "output_type": "execute_result"
    }
   ],
   "source": [
    "#NBA data\n",
    "new_df = pd.merge(nba_df,cities,how='inner',on='Metropolitan area')\n",
    "\n",
    "population_by_region = new_df['Population']\n",
    "win_loss_by_region = new_df['W/L']\n",
    "\n",
    "stats.pearsonr(population_by_region, win_loss_by_region)[0]"
   ]
  },
  {
   "cell_type": "code",
   "execution_count": 56,
   "metadata": {},
   "outputs": [
    {
     "data": {
      "text/plain": [
       "0.15027698302669307"
      ]
     },
     "execution_count": 56,
     "metadata": {},
     "output_type": "execute_result"
    }
   ],
   "source": [
    "#MLB data\n",
    "new_df = pd.merge(mlb_df,cities,how='inner',on='Metropolitan area')\n",
    "\n",
    "population_by_region = new_df['Population']\n",
    "win_loss_by_region = new_df['W/L']\n",
    "\n",
    "stats.pearsonr(population_by_region, win_loss_by_region)[0]"
   ]
  },
  {
   "cell_type": "code",
   "execution_count": 57,
   "metadata": {},
   "outputs": [
    {
     "data": {
      "text/plain": [
       "0.004922112149349428"
      ]
     },
     "execution_count": 57,
     "metadata": {},
     "output_type": "execute_result"
    }
   ],
   "source": [
    "#NFL data\n",
    "new_df = pd.merge(nfl_df,cities,how='inner',on='Metropolitan area')\n",
    "\n",
    "population_by_region = new_df['Population']\n",
    "win_loss_by_region = new_df['W/L']\n",
    "\n",
    "stats.pearsonr(population_by_region, win_loss_by_region)[0]    "
   ]
  },
  {
   "cell_type": "code",
   "execution_count": null,
   "metadata": {},
   "outputs": [],
   "source": [
    "##Scatterplot Geomap. Punktgröße abhängig von Bevölkerung Farbe abhängig von W/L Ratio"
   ]
  },
  {
   "cell_type": "code",
   "execution_count": null,
   "metadata": {},
   "outputs": [],
   "source": []
  }
 ],
 "metadata": {
  "kernelspec": {
   "display_name": "Python 3",
   "language": "python",
   "name": "python3"
  },
  "language_info": {
   "codemirror_mode": {
    "name": "ipython",
    "version": 3
   },
   "file_extension": ".py",
   "mimetype": "text/x-python",
   "name": "python",
   "nbconvert_exporter": "python",
   "pygments_lexer": "ipython3",
   "version": "3.8.2"
  }
 },
 "nbformat": 4,
 "nbformat_minor": 4
}
